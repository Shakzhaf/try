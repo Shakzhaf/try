{
 "cells": [
  {
   "cell_type": "code",
   "execution_count": 12,
   "metadata": {},
   "outputs": [],
   "source": [
    "from apiclient.discovery import build\n",
    "import pickle"
   ]
  },
  {
   "cell_type": "code",
   "execution_count": 13,
   "metadata": {},
   "outputs": [],
   "source": [
    "api_key = None\n",
    "\n",
    "search_engine_id='015065351241375742654:cuvgckgk3ds'\n",
    "resource = build(\"customsearch\", 'v1', developerKey=api_key).cse()"
   ]
  },
  {
   "cell_type": "code",
   "execution_count": 14,
   "metadata": {},
   "outputs": [],
   "source": [
    "def search(query, number_of_query=10):\n",
    "    result_list=[]\n",
    "    result_link=[]\n",
    "    result_title=[]\n",
    "    result_desc=[]\n",
    "    for i in range(1,number_of_query,10):\n",
    "        result=resource.list(q=query, cx=search_engine_id,start=i).execute()\n",
    "        for item in result['items']:\n",
    "            result_link=item['link']\n",
    "            result_title=item['title']\n",
    "            try:\n",
    "                result_desc=item['pagemap']['metatags'][0]['og:description']\n",
    "            except:\n",
    "                result_desc='description not found'\n",
    "            result_list.append([result_title,result_link,result_desc])\n",
    "        \n",
    "    return result_list"
   ]
  },
  {
   "cell_type": "code",
   "execution_count": 15,
   "metadata": {},
   "outputs": [],
   "source": [
    "tensorflow_results=search('tensorflow',100)"
   ]
  },
  {
   "cell_type": "code",
   "execution_count": 16,
   "metadata": {},
   "outputs": [],
   "source": [
    "with open('tensorflow_results', 'wb') as fp:\n",
    "    pickle.dump(tensorflow_results, fp)"
   ]
  },
  {
   "cell_type": "code",
   "execution_count": 17,
   "metadata": {},
   "outputs": [],
   "source": [
    "with open ('tensorflow_results', 'rb') as fp:\n",
    "    new_variable = pickle.load(fp)"
   ]
  },
  {
   "cell_type": "code",
   "execution_count": 18,
   "metadata": {},
   "outputs": [
    {
     "data": {
      "text/plain": [
       "True"
      ]
     },
     "execution_count": 18,
     "metadata": {},
     "output_type": "execute_result"
    }
   ],
   "source": [
    "tensorflow_results==new_variable"
   ]
  },
  {
   "cell_type": "code",
   "execution_count": 20,
   "metadata": {},
   "outputs": [
    {
     "data": {
      "text/plain": [
       "[['TensorFlow - YouTube',\n",
       "  'https://www.youtube.com/channel/UC0rqucBdTuFTjJiefW5t-IQ',\n",
       "  'Welcome to the official TensorFlow YouTube channel. Stay up to date with the latest TensorFlow news, tutorials, best practices, and more! TensorFlow is an op...'],\n",
       " ['What is TensorFlow? The machine learning library explained ...',\n",
       "  'https://www.infoworld.com/article/3278008/what-is-tensorflow-the-machine-learning-library-explained.html',\n",
       "  'TensorFlow is a Python-friendly open source library for numerical computation that makes machine learning faster and easier'],\n",
       " ['TensorFlow in 5 Minutes (tutorial) - YouTube',\n",
       "  'https://www.youtube.com/watch?v=2FmcHiLCwTU',\n",
       "  \"This video is all about building a handwritten digit image classifier in Python in under 40 lines of code (not including spaces and comments). We'll use the ...\"],\n",
       " ['An Introduction to Implementing Deep Learning using TensorFlow',\n",
       "  'https://www.analyticsvidhya.com/blog/2016/10/an-introduction-to-implementing-neural-networks-using-tensorflow/',\n",
       "  'Implementation of neural networks using TensorFlow in data science and applications of neural networks, introduction to Tensorflow & a practice problem'],\n",
       " ['TensorFlow 2.0 Full Tutorial - Python Neural Networks for Beginners ...',\n",
       "  'https://www.youtube.com/watch?v=6g4O5UOH304',\n",
       "  'Learn how to use TensorFlow 2.0 in this full course for beginners. This course will demonstrate how to create neural networks with Python and TensorFlow 2.0....']]"
      ]
     },
     "execution_count": 20,
     "metadata": {},
     "output_type": "execute_result"
    }
   ],
   "source": [
    "tensorflow_results[:5]"
   ]
  },
  {
   "cell_type": "code",
   "execution_count": null,
   "metadata": {},
   "outputs": [],
   "source": []
  }
 ],
 "metadata": {
  "kernelspec": {
   "display_name": "Python 3",
   "language": "python",
   "name": "python3"
  },
  "language_info": {
   "codemirror_mode": {
    "name": "ipython",
    "version": 3
   },
   "file_extension": ".py",
   "mimetype": "text/x-python",
   "name": "python",
   "nbconvert_exporter": "python",
   "pygments_lexer": "ipython3",
   "version": "3.5.6"
  }
 },
 "nbformat": 4,
 "nbformat_minor": 2
}