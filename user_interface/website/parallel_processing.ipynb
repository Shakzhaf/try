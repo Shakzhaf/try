{
 "cells": [
  {
   "cell_type": "code",
   "execution_count": 36,
   "metadata": {},
   "outputs": [],
   "source": [
    "from joblib import Parallel, delayed\n",
    "import timeit"
   ]
  },
  {
   "cell_type": "code",
   "execution_count": 27,
   "metadata": {},
   "outputs": [],
   "source": [
    "answer=[]\n",
    "def yourfunction(k):   \n",
    "    s=3*k*k\n",
    "    answer.append(s)"
   ]
  },
  {
   "cell_type": "code",
   "execution_count": 28,
   "metadata": {},
   "outputs": [],
   "source": [
    "element_run = Parallel(n_jobs=-1)(delayed(yourfunction)(k) for k in range(1,10))"
   ]
  },
  {
   "cell_type": "code",
   "execution_count": 29,
   "metadata": {},
   "outputs": [
    {
     "data": {
      "text/plain": [
       "[]"
      ]
     },
     "execution_count": 29,
     "metadata": {},
     "output_type": "execute_result"
    }
   ],
   "source": [
    "answer"
   ]
  },
  {
   "cell_type": "code",
   "execution_count": 30,
   "metadata": {},
   "outputs": [],
   "source": [
    "def run():\n",
    "    ans=[]\n",
    "    for i in range(1,10):\n",
    "        ans.append(3*i*i)\n",
    "    return ans"
   ]
  },
  {
   "cell_type": "code",
   "execution_count": 31,
   "metadata": {},
   "outputs": [
    {
     "data": {
      "text/plain": [
       "[3, 12, 27, 48, 75, 108, 147, 192, 243]"
      ]
     },
     "execution_count": 31,
     "metadata": {},
     "output_type": "execute_result"
    }
   ],
   "source": [
    "run()"
   ]
  },
  {
   "cell_type": "code",
   "execution_count": 61,
   "metadata": {},
   "outputs": [
    {
     "ename": "KeyboardInterrupt",
     "evalue": "",
     "output_type": "error",
     "traceback": [
      "\u001b[1;31m---------------------------------------------------------------------------\u001b[0m",
      "\u001b[1;31mKeyboardInterrupt\u001b[0m                         Traceback (most recent call last)",
      "\u001b[1;32m<ipython-input-61-cc324853d45c>\u001b[0m in \u001b[0;36m<module>\u001b[1;34m()\u001b[0m\n\u001b[0;32m     10\u001b[0m \u001b[0mnum_cores\u001b[0m \u001b[1;33m=\u001b[0m \u001b[0mmultiprocessing\u001b[0m\u001b[1;33m.\u001b[0m\u001b[0mcpu_count\u001b[0m\u001b[1;33m(\u001b[0m\u001b[1;33m)\u001b[0m\u001b[1;33m\u001b[0m\u001b[0m\n\u001b[0;32m     11\u001b[0m \u001b[1;33m\u001b[0m\u001b[0m\n\u001b[1;32m---> 12\u001b[1;33m \u001b[0mresults\u001b[0m \u001b[1;33m=\u001b[0m \u001b[0mParallel\u001b[0m\u001b[1;33m(\u001b[0m\u001b[0mn_jobs\u001b[0m\u001b[1;33m=\u001b[0m\u001b[0mnum_cores\u001b[0m\u001b[1;33m)\u001b[0m\u001b[1;33m(\u001b[0m\u001b[0mdelayed\u001b[0m\u001b[1;33m(\u001b[0m\u001b[0mprocessInput\u001b[0m\u001b[1;33m)\u001b[0m\u001b[1;33m(\u001b[0m\u001b[0mi\u001b[0m\u001b[1;33m)\u001b[0m \u001b[1;32mfor\u001b[0m \u001b[0mi\u001b[0m \u001b[1;32min\u001b[0m \u001b[0minputs\u001b[0m\u001b[1;33m)\u001b[0m\u001b[1;33m\u001b[0m\u001b[0m\n\u001b[0m\u001b[0;32m     13\u001b[0m \u001b[0mend1\u001b[0m\u001b[1;33m=\u001b[0m\u001b[0mtime\u001b[0m\u001b[1;33m.\u001b[0m\u001b[0mtime\u001b[0m\u001b[1;33m(\u001b[0m\u001b[1;33m)\u001b[0m\u001b[1;33m\u001b[0m\u001b[0m\n\u001b[0;32m     14\u001b[0m \u001b[1;33m\u001b[0m\u001b[0m\n",
      "\u001b[1;32m~\\AppData\\Local\\conda\\conda\\envs\\p35tf\\lib\\site-packages\\joblib\\parallel.py\u001b[0m in \u001b[0;36m__call__\u001b[1;34m(self, iterable)\u001b[0m\n\u001b[0;32m   1014\u001b[0m \u001b[1;33m\u001b[0m\u001b[0m\n\u001b[0;32m   1015\u001b[0m             \u001b[1;32mwith\u001b[0m \u001b[0mself\u001b[0m\u001b[1;33m.\u001b[0m\u001b[0m_backend\u001b[0m\u001b[1;33m.\u001b[0m\u001b[0mretrieval_context\u001b[0m\u001b[1;33m(\u001b[0m\u001b[1;33m)\u001b[0m\u001b[1;33m:\u001b[0m\u001b[1;33m\u001b[0m\u001b[0m\n\u001b[1;32m-> 1016\u001b[1;33m                 \u001b[0mself\u001b[0m\u001b[1;33m.\u001b[0m\u001b[0mretrieve\u001b[0m\u001b[1;33m(\u001b[0m\u001b[1;33m)\u001b[0m\u001b[1;33m\u001b[0m\u001b[0m\n\u001b[0m\u001b[0;32m   1017\u001b[0m             \u001b[1;31m# Make sure that we get a last message telling us we are done\u001b[0m\u001b[1;33m\u001b[0m\u001b[1;33m\u001b[0m\u001b[0m\n\u001b[0;32m   1018\u001b[0m             \u001b[0melapsed_time\u001b[0m \u001b[1;33m=\u001b[0m \u001b[0mtime\u001b[0m\u001b[1;33m.\u001b[0m\u001b[0mtime\u001b[0m\u001b[1;33m(\u001b[0m\u001b[1;33m)\u001b[0m \u001b[1;33m-\u001b[0m \u001b[0mself\u001b[0m\u001b[1;33m.\u001b[0m\u001b[0m_start_time\u001b[0m\u001b[1;33m\u001b[0m\u001b[0m\n",
      "\u001b[1;32m~\\AppData\\Local\\conda\\conda\\envs\\p35tf\\lib\\site-packages\\joblib\\parallel.py\u001b[0m in \u001b[0;36mretrieve\u001b[1;34m(self)\u001b[0m\n\u001b[0;32m    901\u001b[0m             \u001b[1;31m# we empty it and Python list are not thread-safe by default hence\u001b[0m\u001b[1;33m\u001b[0m\u001b[1;33m\u001b[0m\u001b[0m\n\u001b[0;32m    902\u001b[0m             \u001b[1;31m# the use of the lock\u001b[0m\u001b[1;33m\u001b[0m\u001b[1;33m\u001b[0m\u001b[0m\n\u001b[1;32m--> 903\u001b[1;33m             \u001b[1;32mwith\u001b[0m \u001b[0mself\u001b[0m\u001b[1;33m.\u001b[0m\u001b[0m_lock\u001b[0m\u001b[1;33m:\u001b[0m\u001b[1;33m\u001b[0m\u001b[0m\n\u001b[0m\u001b[0;32m    904\u001b[0m                 \u001b[0mjob\u001b[0m \u001b[1;33m=\u001b[0m \u001b[0mself\u001b[0m\u001b[1;33m.\u001b[0m\u001b[0m_jobs\u001b[0m\u001b[1;33m.\u001b[0m\u001b[0mpop\u001b[0m\u001b[1;33m(\u001b[0m\u001b[1;36m0\u001b[0m\u001b[1;33m)\u001b[0m\u001b[1;33m\u001b[0m\u001b[0m\n\u001b[0;32m    905\u001b[0m \u001b[1;33m\u001b[0m\u001b[0m\n",
      "\u001b[1;31mKeyboardInterrupt\u001b[0m: "
     ]
    },
    {
     "name": "stderr",
     "output_type": "stream",
     "text": [
      "exception calling callback for <Future at 0x1730f79a0b8 state=finished returned list>\n",
      "Traceback (most recent call last):\n",
      "  File \"C:\\Users\\hp\\AppData\\Local\\conda\\conda\\envs\\p35tf\\lib\\site-packages\\joblib\\externals\\loky\\_base.py\", line 625, in _invoke_callbacks\n",
      "    callback(self)\n",
      "  File \"C:\\Users\\hp\\AppData\\Local\\conda\\conda\\envs\\p35tf\\lib\\site-packages\\joblib\\parallel.py\", line 340, in __call__\n",
      "    self.parallel.dispatch_next()\n",
      "  File \"C:\\Users\\hp\\AppData\\Local\\conda\\conda\\envs\\p35tf\\lib\\site-packages\\joblib\\parallel.py\", line 768, in dispatch_next\n",
      "    if not self.dispatch_one_batch(self._original_iterator):\n",
      "  File \"C:\\Users\\hp\\AppData\\Local\\conda\\conda\\envs\\p35tf\\lib\\site-packages\\joblib\\parallel.py\", line 834, in dispatch_one_batch\n",
      "    self._dispatch(tasks)\n",
      "  File \"C:\\Users\\hp\\AppData\\Local\\conda\\conda\\envs\\p35tf\\lib\\site-packages\\joblib\\parallel.py\", line 753, in _dispatch\n",
      "    job = self._backend.apply_async(batch, callback=cb)\n",
      "  File \"C:\\Users\\hp\\AppData\\Local\\conda\\conda\\envs\\p35tf\\lib\\site-packages\\joblib\\_parallel_backends.py\", line 543, in apply_async\n",
      "    future = self._workers.submit(SafeFunction(func))\n",
      "AttributeError: 'NoneType' object has no attribute 'submit'\n",
      "exception calling callback for <Future at 0x173106503c8 state=finished returned list>\n",
      "Traceback (most recent call last):\n",
      "  File \"C:\\Users\\hp\\AppData\\Local\\conda\\conda\\envs\\p35tf\\lib\\site-packages\\joblib\\externals\\loky\\_base.py\", line 625, in _invoke_callbacks\n",
      "    callback(self)\n",
      "  File \"C:\\Users\\hp\\AppData\\Local\\conda\\conda\\envs\\p35tf\\lib\\site-packages\\joblib\\parallel.py\", line 340, in __call__\n",
      "    self.parallel.dispatch_next()\n",
      "  File \"C:\\Users\\hp\\AppData\\Local\\conda\\conda\\envs\\p35tf\\lib\\site-packages\\joblib\\parallel.py\", line 768, in dispatch_next\n",
      "    if not self.dispatch_one_batch(self._original_iterator):\n",
      "  File \"C:\\Users\\hp\\AppData\\Local\\conda\\conda\\envs\\p35tf\\lib\\site-packages\\joblib\\parallel.py\", line 834, in dispatch_one_batch\n",
      "    self._dispatch(tasks)\n",
      "  File \"C:\\Users\\hp\\AppData\\Local\\conda\\conda\\envs\\p35tf\\lib\\site-packages\\joblib\\parallel.py\", line 753, in _dispatch\n",
      "    job = self._backend.apply_async(batch, callback=cb)\n",
      "  File \"C:\\Users\\hp\\AppData\\Local\\conda\\conda\\envs\\p35tf\\lib\\site-packages\\joblib\\_parallel_backends.py\", line 543, in apply_async\n",
      "    future = self._workers.submit(SafeFunction(func))\n",
      "AttributeError: 'NoneType' object has no attribute 'submit'\n",
      "exception calling callback for <Future at 0x1730dfac748 state=finished returned list>\n",
      "Traceback (most recent call last):\n",
      "  File \"C:\\Users\\hp\\AppData\\Local\\conda\\conda\\envs\\p35tf\\lib\\site-packages\\joblib\\externals\\loky\\_base.py\", line 625, in _invoke_callbacks\n",
      "    callback(self)\n",
      "  File \"C:\\Users\\hp\\AppData\\Local\\conda\\conda\\envs\\p35tf\\lib\\site-packages\\joblib\\parallel.py\", line 340, in __call__\n",
      "    self.parallel.dispatch_next()\n",
      "  File \"C:\\Users\\hp\\AppData\\Local\\conda\\conda\\envs\\p35tf\\lib\\site-packages\\joblib\\parallel.py\", line 768, in dispatch_next\n",
      "    if not self.dispatch_one_batch(self._original_iterator):\n",
      "  File \"C:\\Users\\hp\\AppData\\Local\\conda\\conda\\envs\\p35tf\\lib\\site-packages\\joblib\\parallel.py\", line 834, in dispatch_one_batch\n",
      "    self._dispatch(tasks)\n",
      "  File \"C:\\Users\\hp\\AppData\\Local\\conda\\conda\\envs\\p35tf\\lib\\site-packages\\joblib\\parallel.py\", line 753, in _dispatch\n",
      "    job = self._backend.apply_async(batch, callback=cb)\n",
      "  File \"C:\\Users\\hp\\AppData\\Local\\conda\\conda\\envs\\p35tf\\lib\\site-packages\\joblib\\_parallel_backends.py\", line 543, in apply_async\n",
      "    future = self._workers.submit(SafeFunction(func))\n",
      "AttributeError: 'NoneType' object has no attribute 'submit'\n",
      "exception calling callback for <Future at 0x17310642ef0 state=finished returned list>\n",
      "Traceback (most recent call last):\n",
      "  File \"C:\\Users\\hp\\AppData\\Local\\conda\\conda\\envs\\p35tf\\lib\\site-packages\\joblib\\externals\\loky\\_base.py\", line 625, in _invoke_callbacks\n",
      "    callback(self)\n",
      "  File \"C:\\Users\\hp\\AppData\\Local\\conda\\conda\\envs\\p35tf\\lib\\site-packages\\joblib\\parallel.py\", line 340, in __call__\n",
      "    self.parallel.dispatch_next()\n",
      "  File \"C:\\Users\\hp\\AppData\\Local\\conda\\conda\\envs\\p35tf\\lib\\site-packages\\joblib\\parallel.py\", line 768, in dispatch_next\n",
      "    if not self.dispatch_one_batch(self._original_iterator):\n",
      "  File \"C:\\Users\\hp\\AppData\\Local\\conda\\conda\\envs\\p35tf\\lib\\site-packages\\joblib\\parallel.py\", line 834, in dispatch_one_batch\n",
      "    self._dispatch(tasks)\n",
      "  File \"C:\\Users\\hp\\AppData\\Local\\conda\\conda\\envs\\p35tf\\lib\\site-packages\\joblib\\parallel.py\", line 753, in _dispatch\n",
      "    job = self._backend.apply_async(batch, callback=cb)\n",
      "  File \"C:\\Users\\hp\\AppData\\Local\\conda\\conda\\envs\\p35tf\\lib\\site-packages\\joblib\\_parallel_backends.py\", line 543, in apply_async\n",
      "    future = self._workers.submit(SafeFunction(func))\n",
      "AttributeError: 'NoneType' object has no attribute 'submit'\n",
      "exception calling callback for <Future at 0x1730ddd7080 state=finished returned list>\n",
      "Traceback (most recent call last):\n",
      "  File \"C:\\Users\\hp\\AppData\\Local\\conda\\conda\\envs\\p35tf\\lib\\site-packages\\joblib\\externals\\loky\\_base.py\", line 625, in _invoke_callbacks\n",
      "    callback(self)\n",
      "  File \"C:\\Users\\hp\\AppData\\Local\\conda\\conda\\envs\\p35tf\\lib\\site-packages\\joblib\\parallel.py\", line 340, in __call__\n",
      "    self.parallel.dispatch_next()\n",
      "  File \"C:\\Users\\hp\\AppData\\Local\\conda\\conda\\envs\\p35tf\\lib\\site-packages\\joblib\\parallel.py\", line 768, in dispatch_next\n",
      "    if not self.dispatch_one_batch(self._original_iterator):\n",
      "  File \"C:\\Users\\hp\\AppData\\Local\\conda\\conda\\envs\\p35tf\\lib\\site-packages\\joblib\\parallel.py\", line 834, in dispatch_one_batch\n",
      "    self._dispatch(tasks)\n",
      "  File \"C:\\Users\\hp\\AppData\\Local\\conda\\conda\\envs\\p35tf\\lib\\site-packages\\joblib\\parallel.py\", line 753, in _dispatch\n",
      "    job = self._backend.apply_async(batch, callback=cb)\n",
      "  File \"C:\\Users\\hp\\AppData\\Local\\conda\\conda\\envs\\p35tf\\lib\\site-packages\\joblib\\_parallel_backends.py\", line 543, in apply_async\n",
      "    future = self._workers.submit(SafeFunction(func))\n",
      "AttributeError: 'NoneType' object has no attribute 'submit'\n",
      "exception calling callback for <Future at 0x173105c25f8 state=finished returned list>\n",
      "Traceback (most recent call last):\n",
      "  File \"C:\\Users\\hp\\AppData\\Local\\conda\\conda\\envs\\p35tf\\lib\\site-packages\\joblib\\externals\\loky\\_base.py\", line 625, in _invoke_callbacks\n",
      "    callback(self)\n",
      "  File \"C:\\Users\\hp\\AppData\\Local\\conda\\conda\\envs\\p35tf\\lib\\site-packages\\joblib\\parallel.py\", line 340, in __call__\n",
      "    self.parallel.dispatch_next()\n",
      "  File \"C:\\Users\\hp\\AppData\\Local\\conda\\conda\\envs\\p35tf\\lib\\site-packages\\joblib\\parallel.py\", line 768, in dispatch_next\n",
      "    if not self.dispatch_one_batch(self._original_iterator):\n",
      "  File \"C:\\Users\\hp\\AppData\\Local\\conda\\conda\\envs\\p35tf\\lib\\site-packages\\joblib\\parallel.py\", line 834, in dispatch_one_batch\n",
      "    self._dispatch(tasks)\n",
      "  File \"C:\\Users\\hp\\AppData\\Local\\conda\\conda\\envs\\p35tf\\lib\\site-packages\\joblib\\parallel.py\", line 753, in _dispatch\n",
      "    job = self._backend.apply_async(batch, callback=cb)\n",
      "  File \"C:\\Users\\hp\\AppData\\Local\\conda\\conda\\envs\\p35tf\\lib\\site-packages\\joblib\\_parallel_backends.py\", line 543, in apply_async\n",
      "    future = self._workers.submit(SafeFunction(func))\n",
      "AttributeError: 'NoneType' object has no attribute 'submit'\n",
      "exception calling callback for <Future at 0x173106830b8 state=finished returned list>\n",
      "Traceback (most recent call last):\n",
      "  File \"C:\\Users\\hp\\AppData\\Local\\conda\\conda\\envs\\p35tf\\lib\\site-packages\\joblib\\externals\\loky\\_base.py\", line 625, in _invoke_callbacks\n",
      "    callback(self)\n",
      "  File \"C:\\Users\\hp\\AppData\\Local\\conda\\conda\\envs\\p35tf\\lib\\site-packages\\joblib\\parallel.py\", line 340, in __call__\n",
      "    self.parallel.dispatch_next()\n",
      "  File \"C:\\Users\\hp\\AppData\\Local\\conda\\conda\\envs\\p35tf\\lib\\site-packages\\joblib\\parallel.py\", line 768, in dispatch_next\n",
      "    if not self.dispatch_one_batch(self._original_iterator):\n",
      "  File \"C:\\Users\\hp\\AppData\\Local\\conda\\conda\\envs\\p35tf\\lib\\site-packages\\joblib\\parallel.py\", line 834, in dispatch_one_batch\n",
      "    self._dispatch(tasks)\n",
      "  File \"C:\\Users\\hp\\AppData\\Local\\conda\\conda\\envs\\p35tf\\lib\\site-packages\\joblib\\parallel.py\", line 753, in _dispatch\n",
      "    job = self._backend.apply_async(batch, callback=cb)\n",
      "  File \"C:\\Users\\hp\\AppData\\Local\\conda\\conda\\envs\\p35tf\\lib\\site-packages\\joblib\\_parallel_backends.py\", line 543, in apply_async\n",
      "    future = self._workers.submit(SafeFunction(func))\n",
      "AttributeError: 'NoneType' object has no attribute 'submit'\n"
     ]
    },
    {
     "name": "stderr",
     "output_type": "stream",
     "text": [
      "exception calling callback for <Future at 0x173109742b0 state=finished returned list>\n",
      "Traceback (most recent call last):\n",
      "  File \"C:\\Users\\hp\\AppData\\Local\\conda\\conda\\envs\\p35tf\\lib\\site-packages\\joblib\\externals\\loky\\_base.py\", line 625, in _invoke_callbacks\n",
      "    callback(self)\n",
      "  File \"C:\\Users\\hp\\AppData\\Local\\conda\\conda\\envs\\p35tf\\lib\\site-packages\\joblib\\parallel.py\", line 340, in __call__\n",
      "    self.parallel.dispatch_next()\n",
      "  File \"C:\\Users\\hp\\AppData\\Local\\conda\\conda\\envs\\p35tf\\lib\\site-packages\\joblib\\parallel.py\", line 768, in dispatch_next\n",
      "    if not self.dispatch_one_batch(self._original_iterator):\n",
      "  File \"C:\\Users\\hp\\AppData\\Local\\conda\\conda\\envs\\p35tf\\lib\\site-packages\\joblib\\parallel.py\", line 834, in dispatch_one_batch\n",
      "    self._dispatch(tasks)\n",
      "  File \"C:\\Users\\hp\\AppData\\Local\\conda\\conda\\envs\\p35tf\\lib\\site-packages\\joblib\\parallel.py\", line 753, in _dispatch\n",
      "    job = self._backend.apply_async(batch, callback=cb)\n",
      "  File \"C:\\Users\\hp\\AppData\\Local\\conda\\conda\\envs\\p35tf\\lib\\site-packages\\joblib\\_parallel_backends.py\", line 543, in apply_async\n",
      "    future = self._workers.submit(SafeFunction(func))\n",
      "AttributeError: 'NoneType' object has no attribute 'submit'\n"
     ]
    }
   ],
   "source": [
    "from joblib import Parallel, delayed\n",
    "import multiprocessing\n",
    "\n",
    "\n",
    "inputs = range(10000000) \n",
    "start1=time.time()\n",
    "def processInput(i):\n",
    "    return i * i * i *2\n",
    "\n",
    "num_cores = multiprocessing.cpu_count()\n",
    "\n",
    "results = Parallel(n_jobs=num_cores)(delayed(processInput)(i) for i in inputs)\n",
    "end1=time.time()\n",
    "\n",
    "res=[]\n",
    "start2=time.time()\n",
    "for i in inputs:\n",
    "    res.append(processInput(i))\n",
    "end2=time.time()\n",
    "\n",
    "print(end1-start1)\n",
    "print(end2-start2)"
   ]
  },
  {
   "cell_type": "code",
   "execution_count": null,
   "metadata": {},
   "outputs": [],
   "source": [
    "start1=time.time()\n",
    "def processInput(i):\n",
    "    return i * i\n",
    "\n",
    "num_cores = multiprocessing.cpu_count()\n",
    "\n",
    "results = Parallel(n_jobs=-1)(delayed(processInput)(i) for i in inputs)\n",
    "end1=time.time()\n",
    "print(end1-start1)"
   ]
  },
  {
   "cell_type": "code",
   "execution_count": 62,
   "metadata": {},
   "outputs": [
    {
     "name": "stdout",
     "output_type": "stream",
     "text": [
      "4.997441530227661\n"
     ]
    }
   ],
   "source": [
    "start2=time.time()\n",
    "for i in inputs:\n",
    "    res.append(processInput(i))\n",
    "end2=time.time()\n",
    "print(end2-start2)"
   ]
  },
  {
   "cell_type": "code",
   "execution_count": null,
   "metadata": {},
   "outputs": [],
   "source": []
  }
 ],
 "metadata": {
  "kernelspec": {
   "display_name": "Python 3",
   "language": "python",
   "name": "python3"
  },
  "language_info": {
   "codemirror_mode": {
    "name": "ipython",
    "version": 3
   },
   "file_extension": ".py",
   "mimetype": "text/x-python",
   "name": "python",
   "nbconvert_exporter": "python",
   "pygments_lexer": "ipython3",
   "version": "3.5.6"
  }
 },
 "nbformat": 4,
 "nbformat_minor": 2
}
